{
  "nbformat": 4,
  "nbformat_minor": 0,
  "metadata": {
    "colab": {
      "name": "Lab_01_Linear_Algebra.ipynb",
      "provenance": [],
      "collapsed_sections": [],
      "include_colab_link": true
    },
    "kernelspec": {
      "name": "python3",
      "display_name": "Python 3"
    },
    "language_info": {
      "name": "python"
    }
  },
  "cells": [
    {
      "cell_type": "markdown",
      "metadata": {
        "id": "view-in-github",
        "colab_type": "text"
      },
      "source": [
        "<a href=\"https://colab.research.google.com/github/Saurabhbiswas16/018_SaurabhBiswas/blob/main/Lab1/Lab_01_Linear_Algebra.ipynb\" target=\"_parent\"><img src=\"https://colab.research.google.com/assets/colab-badge.svg\" alt=\"Open In Colab\"/></a>"
      ]
    },
    {
      "cell_type": "code",
      "metadata": {
        "colab": {
          "base_uri": "https://localhost:8080/"
        },
        "id": "Wytm29pC8GxP",
        "outputId": "dc1a1c98-4ace-4ba7-91eb-818210400ae5"
      },
      "source": [
        "from google.colab import drive\n",
        "drive.mount(\"/content/drive\")"
      ],
      "execution_count": null,
      "outputs": [
        {
          "output_type": "stream",
          "text": [
            "Mounted at /content/drive\n"
          ],
          "name": "stdout"
        }
      ]
    },
    {
      "cell_type": "code",
      "metadata": {
        "id": "NLhsXKXm8wDd"
      },
      "source": [
        "import numpy as np\n",
        "import pandas as pd"
      ],
      "execution_count": null,
      "outputs": []
    },
    {
      "cell_type": "code",
      "metadata": {
        "colab": {
          "base_uri": "https://localhost:8080/"
        },
        "id": "YrMwOlBi9RHU",
        "outputId": "254fad11-d7db-4890-e562-020764b85d63"
      },
      "source": [
        "# two matrics\n",
        "array1 = np.array([[5, 9, 3],[3, 7, 5]])\n",
        "array2 = np.array([[3,-9],[5, 4],[7, -8]])\n",
        "print(array1)\n",
        "print(array2)"
      ],
      "execution_count": null,
      "outputs": [
        {
          "output_type": "stream",
          "text": [
            "[[5 9 3]\n",
            " [3 7 5]]\n",
            "[[ 3 -9]\n",
            " [ 5  4]\n",
            " [ 7 -8]]\n"
          ],
          "name": "stdout"
        }
      ]
    },
    {
      "cell_type": "code",
      "metadata": {
        "colab": {
          "base_uri": "https://localhost:8080/"
        },
        "id": "0G4ztctz9iph",
        "outputId": "0674c81f-9114-42a1-e45a-6cc54e01be03"
      },
      "source": [
        "#randomly initialize array\n",
        "array = np.random.rand(3, 4)\n",
        "print(array)"
      ],
      "execution_count": null,
      "outputs": [
        {
          "output_type": "stream",
          "text": [
            "[[0.58775322 0.53728663 0.02453317 0.44211232]\n",
            " [0.96239721 0.42627856 0.80047357 0.96327143]\n",
            " [0.63680706 0.22524305 0.97483196 0.25487947]]\n"
          ],
          "name": "stdout"
        }
      ]
    },
    {
      "cell_type": "code",
      "metadata": {
        "colab": {
          "base_uri": "https://localhost:8080/"
        },
        "id": "pGD17M4e9t9Z",
        "outputId": "b16671ac-8990-4fab-d564-eafda3a7b35e"
      },
      "source": [
        "# perform matrix multiplication\n",
        "mul = np.dot(array1, array2)\n",
        "print(mul)"
      ],
      "execution_count": null,
      "outputs": [
        {
          "output_type": "stream",
          "text": [
            "[[ 81 -33]\n",
            " [ 79 -39]]\n"
          ],
          "name": "stdout"
        }
      ]
    },
    {
      "cell_type": "code",
      "metadata": {
        "colab": {
          "base_uri": "https://localhost:8080/"
        },
        "id": "mCT8XbnA926h",
        "outputId": "393580f3-b19f-4ddf-e5fa-9627f1396b74"
      },
      "source": [
        "# perform element wise matrix multiplication\n",
        "res = [[0 for x in range(len(array1))] for y in range(len(array2[0]))]\n",
        "\n",
        "for i in range(len(array1)): \n",
        "  for j in range(len(array2[0])): \n",
        "    for k in range(len(array2)): \n",
        "      res[i][j] += array1[i][k] * array2[k][j]\n",
        " \n",
        "print (res) "
      ],
      "execution_count": null,
      "outputs": [
        {
          "output_type": "stream",
          "text": [
            "[[81, -33], [79, -39]]\n"
          ],
          "name": "stdout"
        }
      ]
    },
    {
      "cell_type": "code",
      "metadata": {
        "colab": {
          "base_uri": "https://localhost:8080/"
        },
        "id": "pmbcqzXg-SsJ",
        "outputId": "0f999bd0-f22e-4f37-baa8-19e92ac2e183"
      },
      "source": [
        "# mean of first matrix\n",
        "mean = np.mean(array1)\n",
        "print(mean)"
      ],
      "execution_count": null,
      "outputs": [
        {
          "output_type": "stream",
          "text": [
            "5.333333333333333\n"
          ],
          "name": "stdout"
        }
      ]
    },
    {
      "cell_type": "code",
      "metadata": {
        "id": "AOi7uQv-SdIm"
      },
      "source": [
        "main_data = pd.read_csv(\"/content/drive/MyDrive/Colab Notebooks/CSV/mtcars.csv\")"
      ],
      "execution_count": null,
      "outputs": []
    },
    {
      "cell_type": "code",
      "metadata": {
        "colab": {
          "base_uri": "https://localhost:8080/"
        },
        "id": "WQvwWW_ATFPq",
        "outputId": "39cf8123-6d1c-463c-8e32-289527581e88"
      },
      "source": [
        "del main_data['model']\n",
        "# meancenter\n",
        "meancenter = main_data.apply(lambda e: e - e.mean())\n",
        "print(meancenter.head())\n"
      ],
      "execution_count": null,
      "outputs": [
        {
          "output_type": "stream",
          "text": [
            "        mpg     cyl        disp       hp  ...      vs       am    gear    carb\n",
            "0  0.909375 -0.1875  -70.721875 -36.6875  ... -0.4375  0.59375  0.3125  1.1875\n",
            "1  0.909375 -0.1875  -70.721875 -36.6875  ... -0.4375  0.59375  0.3125  1.1875\n",
            "2  2.709375 -2.1875 -122.721875 -53.6875  ...  0.5625  0.59375  0.3125 -1.8125\n",
            "3  1.309375 -0.1875   27.278125 -36.6875  ...  0.5625 -0.40625 -0.6875 -1.8125\n",
            "4 -1.390625  1.8125  129.278125  28.3125  ... -0.4375 -0.40625 -0.6875 -0.8125\n",
            "\n",
            "[5 rows x 11 columns]\n"
          ],
          "name": "stdout"
        }
      ]
    },
    {
      "cell_type": "code",
      "metadata": {
        "id": "yLR1NUfNUDvX"
      },
      "source": [
        ""
      ],
      "execution_count": null,
      "outputs": []
    }
  ]
}