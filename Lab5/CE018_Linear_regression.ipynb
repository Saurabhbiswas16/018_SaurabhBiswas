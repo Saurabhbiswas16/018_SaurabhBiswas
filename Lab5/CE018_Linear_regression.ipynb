{
  "nbformat": 4,
  "nbformat_minor": 0,
  "metadata": {
    "colab": {
      "name": "CE018_Linear_regression.ipynb",
      "provenance": [],
      "collapsed_sections": [],
      "authorship_tag": "ABX9TyO3lYnpEDTKT1I8ho9hxyoW",
      "include_colab_link": true
    },
    "kernelspec": {
      "name": "python3",
      "display_name": "Python 3"
    },
    "language_info": {
      "name": "python"
    }
  },
  "cells": [
    {
      "cell_type": "markdown",
      "metadata": {
        "id": "view-in-github",
        "colab_type": "text"
      },
      "source": [
        "<a href=\"https://colab.research.google.com/github/Saurabhbiswas16/018_SaurabhBiswas/blob/main/Lab5/CE018_Linear_regression.ipynb\" target=\"_parent\"><img src=\"https://colab.research.google.com/assets/colab-badge.svg\" alt=\"Open In Colab\"/></a>"
      ]
    },
    {
      "cell_type": "code",
      "metadata": {
        "id": "L3bfzYWcSlOl"
      },
      "source": [
        "# Import Numpy & PyTorch\n",
        "import numpy as np"
      ],
      "execution_count": 1,
      "outputs": []
    },
    {
      "cell_type": "markdown",
      "metadata": {
        "_uuid": "34f006aa7eb4bbc683c39b7059021da900180908",
        "id": "tUurNfvF-7mc"
      },
      "source": [
        "A tensor is a number, vector, matrix or any n-dimensional array."
      ]
    },
    {
      "cell_type": "markdown",
      "metadata": {
        "_uuid": "0b65b6bb4d15127b1d51f09abf616cfd29fa48b4",
        "id": "DAOgSWEp-7oF"
      },
      "source": [
        "## Problem Statement"
      ]
    },
    {
      "cell_type": "markdown",
      "metadata": {
        "_uuid": "c1beecda01bc332596edd193cade30006e3f6cbf",
        "id": "-Fi1M6pd-7oJ"
      },
      "source": [
        "We'll create a model that predicts crop yeilds for apples (*target variable*) by looking at the average temperature, rainfall and humidity (*input variables or features*) in different regions. \n",
        "\n",
        "Here's the training data:\n",
        "\n",
        ">Temp | Rain | Humidity | Prediction\n",
        ">--- | --- | --- | ---\n",
        "> 73 | 67 | 43 | 56\n",
        "> 91 | 88 | 64 | 81\n",
        "> 87 | 134 | 58 | 119\n",
        "> 102 | 43 | 37 | 22\n",
        "> 69 | 96 | 70 | 103\n",
        "\n",
        "In a **linear regression** model, each target variable is estimated to be a weighted sum of the input variables, offset by some constant, known as a bias :\n",
        "\n",
        "```\n",
        "yeild_apple  = w11 * temp + w12 * rainfall + w13 * humidity + b1\n",
        "```\n",
        "\n",
        "It means that the yield of apples is a linear or planar function of the temperature, rainfall & humidity.\n",
        "\n",
        "\n",
        "\n",
        "**Our objective**: Find a suitable set of *weights* and *biases* using the training data, to make accurate predictions."
      ]
    },
    {
      "cell_type": "markdown",
      "metadata": {
        "_uuid": "c24b8195c0e9c6e8e13e169d264484f1f9b3b1ae",
        "id": "h0dmV2Fc-7oL"
      },
      "source": [
        "## Training Data\n",
        "The training data can be represented using 2 matrices (inputs and targets), each with one row per observation and one column for variable."
      ]
    },
    {
      "cell_type": "code",
      "metadata": {
        "id": "Su7f0ROHU0aF"
      },
      "source": [
        "# Input (temp, rainfall, humidity)\n",
        "X = np.array([[73, 67, 43], \n",
        "                   [91, 88, 64], \n",
        "                   [87, 134, 58], \n",
        "                   [102, 43, 37], \n",
        "                   [69, 96, 70]], dtype='float32')"
      ],
      "execution_count": 2,
      "outputs": []
    },
    {
      "cell_type": "code",
      "metadata": {
        "id": "Lr23rVZJU6Ob"
      },
      "source": [
        "# Target (apples)\n",
        "Y = np.array([[56], \n",
        "                    [81], \n",
        "                    [119], \n",
        "                    [22], \n",
        "                    [103]], dtype='float32')"
      ],
      "execution_count": 3,
      "outputs": []
    },
    {
      "cell_type": "markdown",
      "metadata": {
        "_uuid": "70d48f83ae4fce7aba7dd78fd58dddc77c598bfd",
        "id": "MyJm3YtE-7oo"
      },
      "source": [
        "Before we build a model, we need to convert inputs and targets to PyTorch tensors."
      ]
    },
    {
      "cell_type": "markdown",
      "metadata": {
        "_uuid": "652647cd90bd0784ec4dc53472410f7358ee18c9",
        "id": "y0RLCJnb-7o4"
      },
      "source": [
        "## Linear Regression Model (from scratch)\n",
        "\n",
        "The *weights* and *biases* can also be represented as matrices, initialized with random values. The first row of `w` and the first element of `b` are use to predict the first target variable i.e. yield for apples, and similarly the second for oranges."
      ]
    },
    {
      "cell_type": "markdown",
      "metadata": {
        "_uuid": "3579a065997cae41f7f504916b6bc07878ac768c",
        "id": "8qNNejI9-7pH"
      },
      "source": [
        "The *model* is simply a function that performs a matrix multiplication of the input `x` and the weights `w` (transposed) and adds the bias `w0` (replicated for each observation).\n",
        "\n",
        "$$\n",
        "\\hspace{2.5cm} X \\hspace{1.1cm} \\times \\hspace{1.2cm} W^T \n",
        "$$\n",
        "\n",
        "$$\n",
        "\\left[ \\begin{array}{cc}\n",
        "1 & 73 & 67 & 43 \\\\\n",
        "1 &91 & 88 & 64 \\\\\n",
        "\\vdots & \\vdots & \\vdots & \\vdots \\\\\n",
        "1 &69 & 96 & 70\n",
        "\\end{array} \\right]\n",
        "%\n",
        "\\times\n",
        "%\n",
        "\\left[ \\begin{array}{cc}\n",
        "w_{0}  \\\\\n",
        "w_{1}  \\\\\n",
        "w_{2}  \\\\\n",
        "w_{3} \n",
        "\\end{array} \\right]\n",
        "%\n",
        "$$"
      ]
    },
    {
      "cell_type": "code",
      "metadata": {
        "colab": {
          "base_uri": "https://localhost:8080/"
        },
        "id": "pDqT-zJEVUJr",
        "outputId": "b06d83f2-1cb1-4745-a270-247d5421da1b"
      },
      "source": [
        "mu = np.mean(X, 0)\n",
        "sigma = np.std(X, 0)\n",
        "#normalizing the input\n",
        "X = (X-mu) / sigma\n",
        "X = np.hstack((np.ones((Y.size,1)),X))\n",
        "print(X.shape)"
      ],
      "execution_count": 4,
      "outputs": [
        {
          "output_type": "stream",
          "name": "stdout",
          "text": [
            "(5, 4)\n"
          ]
        }
      ]
    },
    {
      "cell_type": "code",
      "metadata": {
        "colab": {
          "base_uri": "https://localhost:8080/"
        },
        "id": "oaew2_eMVcxc",
        "outputId": "1373c8eb-99a5-4e0f-a334-3cf23e31c1a3"
      },
      "source": [
        "# Weights and biases\n",
        "rg = np.random.default_rng(18)\n",
        "w = rg.random((1, 4))\n",
        "print(w)"
      ],
      "execution_count": 16,
      "outputs": [
        {
          "output_type": "stream",
          "name": "stdout",
          "text": [
            "[[0.39930577 0.71741468 0.28082333 0.08272492]]\n"
          ]
        }
      ]
    },
    {
      "cell_type": "markdown",
      "metadata": {
        "_uuid": "2c4a9cf2b3c9152f2f832176bce9a87381e2419c",
        "id": "Q-NuYiwI-7p4"
      },
      "source": [
        "Because we've started with random weights and biases, the model does not perform a good job of predicting the target varaibles."
      ]
    },
    {
      "cell_type": "markdown",
      "metadata": {
        "_uuid": "edaae7266f5d47c5e970e1438a812f10d8d35fb4",
        "id": "hiNOZ2g1-7p7"
      },
      "source": [
        "## Loss Function\n",
        "\n",
        "We can compare the predictions with the actual targets, using the following method: \n",
        "* Calculate the difference between the two matrices (`preds` and `targets`).\n",
        "* Square all elements of the difference matrix to remove negative values.\n",
        "* Calculate the average of the elements in the resulting matrix.\n",
        "\n",
        "The result is a single number, known as the **mean squared error** (MSE)."
      ]
    },
    {
      "cell_type": "code",
      "metadata": {
        "id": "P7_3A7R_VjSE"
      },
      "source": [
        "# MSE loss function\n",
        "def mse(t1, t2):\n",
        "    diff = t1 - t2\n",
        "    return np.sum(diff * diff) / diff.size"
      ],
      "execution_count": 17,
      "outputs": []
    },
    {
      "cell_type": "code",
      "metadata": {
        "id": "IxNrML3cXmAS"
      },
      "source": [
        "# Define the model\n",
        "def model(x,w):\n",
        "    return x @ w.T"
      ],
      "execution_count": 18,
      "outputs": []
    },
    {
      "cell_type": "code",
      "metadata": {
        "colab": {
          "base_uri": "https://localhost:8080/"
        },
        "id": "QxYjvX4jVmoE",
        "outputId": "6e517b04-700a-4de1-a1dc-055ba7cf289b"
      },
      "source": [
        "# Compute error\n",
        "preds = model(X,w)\n",
        "cost_initial = mse(preds, Y)\n",
        "print(\"Cost before regression: \",cost_initial)"
      ],
      "execution_count": 19,
      "outputs": [
        {
          "output_type": "stream",
          "name": "stdout",
          "text": [
            "Cost before regression:  6930.202604771939\n"
          ]
        }
      ]
    },
    {
      "cell_type": "markdown",
      "metadata": {
        "_uuid": "c61acf9c3cff205d769fc52ed3b1b76f5ae66233",
        "id": "kbQQKg0_-7qU"
      },
      "source": [
        "## Compute Gradients\n",
        "\n"
      ]
    },
    {
      "cell_type": "code",
      "metadata": {
        "id": "EScxLdAGXtwf"
      },
      "source": [
        "def gradient_descent(X, y, w, learning_rate, n_iters):\n",
        "    J_history = np.zeros((n_iters,1))\n",
        "    for i in range(n_iters):\n",
        "        h = model(X,w)\n",
        "        diff = h - y\n",
        "        delta = (learning_rate/Y.size)*(X.T@diff)\n",
        "        new_w = w - delta.T\n",
        "        w=new_w\n",
        "        J_history[i] = mse(h, y)\n",
        "    return (J_history, w)"
      ],
      "execution_count": 20,
      "outputs": []
    },
    {
      "cell_type": "markdown",
      "metadata": {
        "_uuid": "5201901695f3ea13d7fdd5d985da7e0761c541d0",
        "id": "JvUhV8nQ-7s9"
      },
      "source": [
        "## Train for multiple iteration\n",
        "\n",
        "To reduce the loss further, we repeat the process of adjusting the weights and biases using the gradients multiple times. Each iteration is called an epoch."
      ]
    },
    {
      "cell_type": "code",
      "metadata": {
        "colab": {
          "base_uri": "https://localhost:8080/"
        },
        "id": "SOT2u2kxX0I8",
        "outputId": "b386bb88-73d1-4c70-c8d4-7eab0ddd5430"
      },
      "source": [
        "import matplotlib.pyplot as plt\n",
        "n_iters = 500\n",
        "learning_rate = 0.01\n",
        "\n",
        "initial_cost = mse(model(X,w),Y)\n",
        "\n",
        "print(\"Initial cost is: \", initial_cost, \"\\n\")\n",
        "\n",
        "(J_history, optimal_params) = gradient_descent(X, Y, w, learning_rate, n_iters)\n",
        "\n",
        "print(\"Optimal parameters are: \\n\", optimal_params, \"\\n\")\n",
        "\n",
        "print(\"Final cost is: \", J_history[-1])"
      ],
      "execution_count": 21,
      "outputs": [
        {
          "output_type": "stream",
          "name": "stdout",
          "text": [
            "Initial cost is:  6930.202604771939 \n",
            "\n",
            "Optimal parameters are: \n",
            " [[75.70195304 -4.3481714  24.00257952 10.60883871]] \n",
            "\n",
            "Final cost is:  [3.1804016]\n"
          ]
        }
      ]
    },
    {
      "cell_type": "code",
      "metadata": {
        "colab": {
          "base_uri": "https://localhost:8080/",
          "height": 295
        },
        "id": "X_KzKc2bX7Zs",
        "outputId": "a109aec0-6299-473a-c3d4-58fc4f7ec577"
      },
      "source": [
        "plt.plot(range(len(J_history)), J_history, 'r')\n",
        "\n",
        "plt.title(\"Convergence Graph of Cost Function\")\n",
        "plt.xlabel(\"Number of Iterations\")\n",
        "plt.ylabel(\"Cost\")\n",
        "plt.show()"
      ],
      "execution_count": 22,
      "outputs": [
        {
          "output_type": "display_data",
          "data": {
            "image/png": "[encoded data removed]",
            "text/plain": [
              "<Figure size 432x288 with 1 Axes>"
            ]
          },
          "metadata": {
            "needs_background": "light"
          }
        }
      ]
    },
    {
      "cell_type": "code",
      "metadata": {
        "colab": {
          "base_uri": "https://localhost:8080/"
        },
        "id": "6R3CfmipX_xj",
        "outputId": "cc9c1561-4f1f-4752-b045-0ae6d8ffbd8a"
      },
      "source": [
        "# Calculate error\n",
        "preds = model(X,optimal_params)\n",
        "cost_final = mse(preds, Y)\n",
        "# Print predictions\n",
        "print(\"Prediction:\\n\",preds)\n",
        "# Comparing predicted with targets\n",
        "print(\"Targets:\\n\",Y)"
      ],
      "execution_count": 23,
      "outputs": [
        {
          "output_type": "stream",
          "name": "stdout",
          "text": [
            "Prediction:\n",
            " [[ 55.44513292]\n",
            " [ 83.36585606]\n",
            " [116.04949398]\n",
            " [ 20.94000441]\n",
            " [102.70927718]]\n",
            "Targets:\n",
            " [[ 56.]\n",
            " [ 81.]\n",
            " [119.]\n",
            " [ 22.]\n",
            " [103.]]\n"
          ]
        }
      ]
    },
    {
      "cell_type": "code",
      "metadata": {
        "colab": {
          "base_uri": "https://localhost:8080/"
        },
        "id": "bn7rRVGMYD-F",
        "outputId": "64735d0e-0344-4b00-9714-5a7bab75a8bf"
      },
      "source": [
        "print(\"Cost after linear regression: \",cost_final)\n",
        "print(\"Cost reduction percentage : {} %\".format(((cost_initial- cost_final)/cost_initial)*100))"
      ],
      "execution_count": 24,
      "outputs": [
        {
          "output_type": "stream",
          "name": "stdout",
          "text": [
            "Cost after linear regression:  3.163749712779105\n",
            "Cost reduction percentage : 99.95434838065772 %\n"
          ]
        }
      ]
    }
  ]
}