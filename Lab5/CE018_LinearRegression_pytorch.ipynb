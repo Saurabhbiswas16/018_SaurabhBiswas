{
  "nbformat": 4,
  "nbformat_minor": 0,
  "metadata": {
    "colab": {
      "name": "CE018_LinearRegression_pytorch.ipynb",
      "provenance": [],
      "authorship_tag": "ABX9TyPq8W+sXDDvIDXBfqdAEtwK",
      "include_colab_link": true
    },
    "kernelspec": {
      "name": "python3",
      "display_name": "Python 3"
    },
    "language_info": {
      "name": "python"
    }
  },
  "cells": [
    {
      "cell_type": "markdown",
      "metadata": {
        "id": "view-in-github",
        "colab_type": "text"
      },
      "source": [
        "<a href=\"https://colab.research.google.com/github/Saurabhbiswas16/018_SaurabhBiswas/blob/main/Lab5/CE018_LinearRegression_pytorch.ipynb\" target=\"_parent\"><img src=\"https://colab.research.google.com/assets/colab-badge.svg\" alt=\"Open In Colab\"/></a>"
      ]
    },
    {
      "cell_type": "code",
      "metadata": {
        "id": "OYmtYFkwjzmj"
      },
      "source": [
        "import numpy as np\n",
        "import torch"
      ],
      "execution_count": 1,
      "outputs": []
    },
    {
      "cell_type": "markdown",
      "metadata": {
        "id": "TbGuJPbckChm"
      },
      "source": [
        "**Linear Regression Model using PyTorch built-ins**\n",
        "\n",
        "---\n",
        "\n",
        "\n",
        "Let's re-implement the same model using some built-in functions and classes from PyTorch.\n",
        "\n",
        "And now using two different targets: Apples and Oranges"
      ]
    },
    {
      "cell_type": "code",
      "metadata": {
        "id": "jAX0WgUdkXsN"
      },
      "source": [
        "import torch.nn as nn\n",
        "\n",
        "# Input (temp, rainfall, humidity)\n",
        "inputs = np.array([[73, 67, 43], [91, 88, 64], [87, 134, 58], [102, 43, 37], [69, 96, 70], [73, 67, 43], [91, 88, 64], [87, 134, 58], [102, 43, 37], [69, 96, 70], [73, 67, 43], [91, 88, 64], [87, 134, 58], [102, 43, 37], [69, 96, 70]], dtype='float32')\n",
        "# Targets (apples, oranges)\n",
        "targets = np.array([[56, 70], [81, 101], [119, 133], [22, 37], [103, 119], \n",
        "                    [56, 70], [81, 101], [119, 133], [22, 37], [103, 119], \n",
        "                    [56, 70], [81, 101], [119, 133], [22, 37], [103, 119]], dtype='float32')"
      ],
      "execution_count": 2,
      "outputs": []
    },
    {
      "cell_type": "code",
      "metadata": {
        "id": "oPG-ZiLhlAkM"
      },
      "source": [
        "inputs =  torch.from_numpy(inputs)\n",
        "targets = torch.from_numpy(targets)"
      ],
      "execution_count": 3,
      "outputs": []
    },
    {
      "cell_type": "markdown",
      "metadata": {
        "id": "6cP_yPjclHSM"
      },
      "source": [
        "**Dataset and DataLoader**\n",
        "\n",
        "---\n",
        "\n",
        "\n",
        "We'll create a TensorDataset, which allows access to rows from inputs and targets as tuples. We'll also create a DataLoader, to split the data into batches while training. It also provides other utilities like shuffling and sampling."
      ]
    },
    {
      "cell_type": "code",
      "metadata": {
        "colab": {
          "base_uri": "https://localhost:8080/"
        },
        "id": "K04yqkF5lLYN",
        "outputId": "a82c43e0-06c5-4a4c-ae40-671812f7c9bd"
      },
      "source": [
        "#define dataset\n",
        "from torch.utils.data import TensorDataset, DataLoader\n",
        "dataset = TensorDataset(inputs, targets)\n",
        "dataset[0:4]"
      ],
      "execution_count": 4,
      "outputs": [
        {
          "output_type": "execute_result",
          "data": {
            "text/plain": [
              "(tensor([[ 73.,  67.,  43.],\n",
              "         [ 91.,  88.,  64.],\n",
              "         [ 87., 134.,  58.],\n",
              "         [102.,  43.,  37.]]), tensor([[ 56.,  70.],\n",
              "         [ 81., 101.],\n",
              "         [119., 133.],\n",
              "         [ 22.,  37.]]))"
            ]
          },
          "metadata": {},
          "execution_count": 4
        }
      ]
    },
    {
      "cell_type": "code",
      "metadata": {
        "colab": {
          "base_uri": "https://localhost:8080/"
        },
        "id": "o0ptdKFNlUxl",
        "outputId": "9b312653-f593-45ed-a55f-bf20db1a904c"
      },
      "source": [
        "# Define data loader\n",
        "batch_size = 6\n",
        "dl = DataLoader(dataset, batch_size, shuffle=True)\n",
        "next(iter(dl))"
      ],
      "execution_count": 5,
      "outputs": [
        {
          "output_type": "execute_result",
          "data": {
            "text/plain": [
              "[tensor([[ 73.,  67.,  43.],\n",
              "         [ 91.,  88.,  64.],\n",
              "         [ 73.,  67.,  43.],\n",
              "         [ 87., 134.,  58.],\n",
              "         [ 69.,  96.,  70.],\n",
              "         [ 91.,  88.,  64.]]), tensor([[ 56.,  70.],\n",
              "         [ 81., 101.],\n",
              "         [ 56.,  70.],\n",
              "         [119., 133.],\n",
              "         [103., 119.],\n",
              "         [ 81., 101.]])]"
            ]
          },
          "metadata": {},
          "execution_count": 5
        }
      ]
    },
    {
      "cell_type": "markdown",
      "metadata": {
        "id": "vMbl1JdHliuR"
      },
      "source": [
        "**nn.Linear**\n",
        "\n",
        "---\n",
        "\n",
        "\n",
        "Instead of initializing the weights & biases manually, we can define the model using nn.Linear."
      ]
    },
    {
      "cell_type": "code",
      "metadata": {
        "colab": {
          "base_uri": "https://localhost:8080/"
        },
        "id": "3SV_AnTmlmkc",
        "outputId": "dc0a8866-68e7-4267-fb99-aaa73173224c"
      },
      "source": [
        "# Define model\n",
        "model = nn.Linear(3, 2)\n",
        "print(model.weight, end=\"\\n---------\\n\")\n",
        "print(model.bias)"
      ],
      "execution_count": 6,
      "outputs": [
        {
          "output_type": "stream",
          "name": "stdout",
          "text": [
            "Parameter containing:\n",
            "tensor([[-0.5267,  0.0623, -0.4535],\n",
            "        [ 0.1719,  0.4253,  0.1788]], requires_grad=True)\n",
            "---------\n",
            "Parameter containing:\n",
            "tensor([-0.1724, -0.5167], requires_grad=True)\n"
          ]
        }
      ]
    },
    {
      "cell_type": "markdown",
      "metadata": {
        "id": "mhRGo14jlpls"
      },
      "source": [
        "**Optimizer**\n",
        "\n",
        "---\n",
        "\n",
        "\n",
        "Instead of manually manipulating the weights & biases using gradients, we can use the optimizer optim.SGD."
      ]
    },
    {
      "cell_type": "code",
      "metadata": {
        "id": "Mm0PPzLml6V-"
      },
      "source": [
        "# Define optimizer\n",
        "opt = torch.optim.SGD(model.parameters(), lr=1e-5)"
      ],
      "execution_count": 7,
      "outputs": []
    },
    {
      "cell_type": "markdown",
      "metadata": {
        "id": "BlwBVxHpl9vk"
      },
      "source": [
        "**Loss Function**\n",
        "\n",
        "---\n",
        "\n",
        "\n",
        "Instead of defining a loss function manually, we can use the built-in loss function mse_loss."
      ]
    },
    {
      "cell_type": "code",
      "metadata": {
        "colab": {
          "base_uri": "https://localhost:8080/"
        },
        "id": "fuEh5IYumCPP",
        "outputId": "0b29d195-ebef-41b4-c0e3-818cd7ba7a97"
      },
      "source": [
        "# Import nn.functional\n",
        "import torch.nn.functional as F\n",
        "\n",
        "# Define loss function\n",
        "loss_fn = F.mse_loss\n",
        "\n",
        "loss = loss_fn(model(inputs) , targets)\n",
        "print(loss)"
      ],
      "execution_count": 8,
      "outputs": [
        {
          "output_type": "stream",
          "name": "stdout",
          "text": [
            "tensor(11172.7627, grad_fn=<MseLossBackward>)\n"
          ]
        }
      ]
    },
    {
      "cell_type": "markdown",
      "metadata": {
        "id": "FNlcsOnlmGqE"
      },
      "source": [
        "**Train the model**\n",
        "\n",
        "---\n",
        "\n",
        "\n",
        "We are ready to train the model now. We can define a utility function fit which trains the model for a given number of epochs."
      ]
    },
    {
      "cell_type": "code",
      "metadata": {
        "id": "Zd7sd2_mmLIE"
      },
      "source": [
        "# Define a utility function to train the model\n",
        "def fit(num_epochs, model, loss_fn, opt):\n",
        "    for epoch in range(num_epochs):\n",
        "        for xb,yb in dl:\n",
        "            # Generate predictions\n",
        "            pred = model(xb)\n",
        "            loss = loss_fn(pred, yb)\n",
        "            # Perform gradient descent\n",
        "            loss.backward()\n",
        "            opt.step()\n",
        "            opt.zero_grad()\n",
        "    print('Training loss: ', loss_fn(model(inputs), targets))"
      ],
      "execution_count": 9,
      "outputs": []
    },
    {
      "cell_type": "code",
      "metadata": {
        "colab": {
          "base_uri": "https://localhost:8080/"
        },
        "id": "CUWit_IvmOYU",
        "outputId": "19e327c6-7e36-4607-8461-5dac9c9da7e0"
      },
      "source": [
        "# Train the model for 100 epochs\n",
        "fit(100 , model , loss_fn, opt)\n",
        "\n",
        "# Generate predictions\n",
        "preds = model(inputs)\n",
        "print('\\n', preds)"
      ],
      "execution_count": 10,
      "outputs": [
        {
          "output_type": "stream",
          "name": "stdout",
          "text": [
            "Training loss:  tensor(29.8965, grad_fn=<MseLossBackward>)\n",
            "\n",
            " tensor([[ 57.9694,  71.2186],\n",
            "        [ 78.6875,  97.8442],\n",
            "        [124.1702, 136.9801],\n",
            "        [ 26.4877,  43.2055],\n",
            "        [ 92.6995, 110.5754],\n",
            "        [ 57.9694,  71.2186],\n",
            "        [ 78.6875,  97.8442],\n",
            "        [124.1702, 136.9801],\n",
            "        [ 26.4877,  43.2055],\n",
            "        [ 92.6995, 110.5754],\n",
            "        [ 57.9694,  71.2186],\n",
            "        [ 78.6875,  97.8442],\n",
            "        [124.1702, 136.9801],\n",
            "        [ 26.4877,  43.2055],\n",
            "        [ 92.6995, 110.5754]], grad_fn=<AddmmBackward>)\n"
          ]
        }
      ]
    },
    {
      "cell_type": "code",
      "metadata": {
        "colab": {
          "base_uri": "https://localhost:8080/"
        },
        "id": "_Kkeo6kqmSnV",
        "outputId": "3ee5ff2c-8073-4685-dd45-2cd32d2088de"
      },
      "source": [
        "# Compare with targets\n",
        "print(targets)"
      ],
      "execution_count": 11,
      "outputs": [
        {
          "output_type": "stream",
          "name": "stdout",
          "text": [
            "tensor([[ 56.,  70.],\n",
            "        [ 81., 101.],\n",
            "        [119., 133.],\n",
            "        [ 22.,  37.],\n",
            "        [103., 119.],\n",
            "        [ 56.,  70.],\n",
            "        [ 81., 101.],\n",
            "        [119., 133.],\n",
            "        [ 22.,  37.],\n",
            "        [103., 119.],\n",
            "        [ 56.,  70.],\n",
            "        [ 81., 101.],\n",
            "        [119., 133.],\n",
            "        [ 22.,  37.],\n",
            "        [103., 119.]])\n"
          ]
        }
      ]
    },
    {
      "cell_type": "code",
      "metadata": {
        "colab": {
          "base_uri": "https://localhost:8080/"
        },
        "id": "uHtoY1BdmWK-",
        "outputId": "a306abaf-8a05-4b00-ef8c-d6e61aebd1cc"
      },
      "source": [
        "fit(100 , model , loss_fn, opt)"
      ],
      "execution_count": 12,
      "outputs": [
        {
          "output_type": "stream",
          "name": "stdout",
          "text": [
            "Training loss:  tensor(14.6821, grad_fn=<MseLossBackward>)\n"
          ]
        }
      ]
    },
    {
      "cell_type": "code",
      "metadata": {
        "id": "sJxet2ofmY2s"
      },
      "source": [
        "# Input (temp, rainfall, humidity)\n",
        "inputs = np.array([[73, 67, 43], [91, 88, 64], [87, 134, 58], [102, 43, 37], [69, 96, 70], [73, 67, 43], [91, 88, 64], [87, 134, 58], [102, 43, 37], [69, 96, 70], [73, 67, 43], [91, 88, 64], [87, 134, 58], [102, 43, 37], [69, 96, 70]], dtype='float32')\n",
        "# Targets (apples, oranges)\n",
        "targets = np.array([[56, 70], [81, 101], [119, 133], [22, 37], [103, 119], \n",
        "                    [56, 70], [81, 101], [119, 133], [22, 37], [103, 119], \n",
        "                    [56, 70], [81, 101], [119, 133], [22, 37], [103, 119]], dtype='float32')\n",
        "\n",
        "x_shape = inputs.shape"
      ],
      "execution_count": 13,
      "outputs": []
    },
    {
      "cell_type": "code",
      "metadata": {
        "colab": {
          "base_uri": "https://localhost:8080/"
        },
        "id": "aPNtuT3JmbLM",
        "outputId": "8c5d88f7-e975-4398-cd82-2c79b2166f73"
      },
      "source": [
        "# weights and biases\n",
        "weights = np.random.rand(2, 3)\n",
        "biases = np.random.rand(15, 2)\n",
        "print(\"Weights  :  \", weights, sep='\\n')\n",
        "print(\"Biases  :  \", biases, sep=\"\\n\")"
      ],
      "execution_count": 14,
      "outputs": [
        {
          "output_type": "stream",
          "name": "stdout",
          "text": [
            "Weights  :  \n",
            "[[0.81346261 0.0976363  0.91925706]\n",
            " [0.99889117 0.68827762 0.56931776]]\n",
            "Biases  :  \n",
            "[[0.40210513 0.39977788]\n",
            " [0.39194597 0.00175957]\n",
            " [0.32677761 0.52859776]\n",
            " [0.76279844 0.22023596]\n",
            " [0.43177408 0.39759739]\n",
            " [0.02226044 0.09444375]\n",
            " [0.99091956 0.35455892]\n",
            " [0.64653276 0.57368009]\n",
            " [0.85402894 0.70853975]\n",
            " [0.63562355 0.89198716]\n",
            " [0.69531045 0.19294561]\n",
            " [0.67610164 0.60437124]\n",
            " [0.79061503 0.11236286]\n",
            " [0.60154756 0.60069908]\n",
            " [0.17467161 0.30085525]]\n"
          ]
        }
      ]
    },
    {
      "cell_type": "code",
      "metadata": {
        "id": "S9HKPaRxmeJU"
      },
      "source": [
        "# Define the model\n",
        "def model(x):\n",
        "    return x @ np.transpose(weights) + biases"
      ],
      "execution_count": 15,
      "outputs": []
    },
    {
      "cell_type": "code",
      "metadata": {
        "colab": {
          "base_uri": "https://localhost:8080/"
        },
        "id": "rQ-LIdptmhGs",
        "outputId": "f4f50c38-53bb-406a-c3c5-e85019d490c1"
      },
      "source": [
        "# Generate predictions\n",
        "pred = model(inputs)\n",
        "\n",
        "# Compare with targets\n",
        "print(\"Predictions : \", pred, sep=\"\\n\")\n",
        "print(\"\\nTargets : \", targets, sep=\"\\n\")"
      ],
      "execution_count": 16,
      "outputs": [
        {
          "output_type": "stream",
          "name": "stdout",
          "text": [
            "Predictions : \n",
            "[[105.8545615  143.91409779]\n",
            " [141.84148996 187.9056236 ]\n",
            " [137.49819855 212.68176113]\n",
            " [121.94685694 152.76783039]\n",
            " [130.28177343 175.24798316]\n",
            " [105.47471681 143.60876365]\n",
            " [142.44046355 188.25842295]\n",
            " [137.81795369 212.72684345]\n",
            " [122.03808745 153.25613418]\n",
            " [130.48562289 175.74237292]\n",
            " [106.14776682 143.70726552]\n",
            " [142.12564564 188.50823527]\n",
            " [137.96203597 212.26552622]\n",
            " [121.78560606 153.14829351]\n",
            " [130.02467096 175.15124102]]\n",
            "\n",
            "Targets : \n",
            "[[ 56.  70.]\n",
            " [ 81. 101.]\n",
            " [119. 133.]\n",
            " [ 22.  37.]\n",
            " [103. 119.]\n",
            " [ 56.  70.]\n",
            " [ 81. 101.]\n",
            " [119. 133.]\n",
            " [ 22.  37.]\n",
            " [103. 119.]\n",
            " [ 56.  70.]\n",
            " [ 81. 101.]\n",
            " [119. 133.]\n",
            " [ 22.  37.]\n",
            " [103. 119.]]\n"
          ]
        }
      ]
    },
    {
      "cell_type": "code",
      "metadata": {
        "id": "Ku-_gJCMmoLH"
      },
      "source": [
        "# MSE loss\n",
        "def mse(t1, t2):\n",
        "    diff = t1 - t2\n",
        "    return np.sum(diff * diff) / len(diff)"
      ],
      "execution_count": 17,
      "outputs": []
    },
    {
      "cell_type": "code",
      "metadata": {
        "colab": {
          "base_uri": "https://localhost:8080/"
        },
        "id": "9hAs2RjxmrVF",
        "outputId": "47f22eb0-984b-49a6-b0f3-a4a96dfdd016"
      },
      "source": [
        "# Compute loss\n",
        "loss = mse(pred, targets)\n",
        "print(loss)"
      ],
      "execution_count": 18,
      "outputs": [
        {
          "output_type": "stream",
          "name": "stdout",
          "text": [
            "10664.858848915967\n"
          ]
        }
      ]
    },
    {
      "cell_type": "code",
      "metadata": {
        "colab": {
          "base_uri": "https://localhost:8080/"
        },
        "id": "-hgl64Xmmtt0",
        "outputId": "53384216-4a48-4599-96b0-b5cc9eef8df9"
      },
      "source": [
        "# compute gradients\n",
        "biases_grad = (pred - targets) * 2/x_shape[0]\n",
        "weights_grad = (np.matmul(np.transpose((pred - targets)), inputs)) * 2/x_shape[0]\n",
        "\n",
        "print(\"Weights gradient  :  \",weights_grad, sep=\"\\n\")\n",
        "print(\"\\nBiases gradient  :  \",biases_grad, sep=\"\\n\")"
      ],
      "execution_count": 19,
      "outputs": [
        {
          "output_type": "stream",
          "name": "stdout",
          "text": [
            "Weights gradient  :  \n",
            "[[ 9162.44893053  7258.43734632  5099.55857049]\n",
            " [14388.12890877 13472.12176684  8643.37419028]]\n",
            "\n",
            "Biases gradient  :  \n",
            "[[ 6.64727487  9.85521304]\n",
            " [ 8.11219866 11.58741648]\n",
            " [ 2.46642647 10.62423482]\n",
            " [13.32624759 15.43571072]\n",
            " [ 3.63756979  7.49973109]\n",
            " [ 6.59662891  9.81450182]\n",
            " [ 8.19206181 11.63445639]\n",
            " [ 2.50906049 10.63024579]\n",
            " [13.33841166 15.50081789]\n",
            " [ 3.66474972  7.56564972]\n",
            " [ 6.68636891  9.8276354 ]\n",
            " [ 8.15008608 11.6677647 ]\n",
            " [ 2.52827146 10.56873683]\n",
            " [13.30474747 15.48643913]\n",
            " [ 3.60328946  7.48683214]]\n"
          ]
        }
      ]
    },
    {
      "cell_type": "code",
      "metadata": {
        "id": "64o-j3C9mwec"
      },
      "source": [
        "# Adjust weights\n",
        "weights -= weights_grad * 1e-4\n",
        "biases -= biases_grad * 1e-4"
      ],
      "execution_count": 20,
      "outputs": []
    },
    {
      "cell_type": "code",
      "metadata": {
        "colab": {
          "base_uri": "https://localhost:8080/"
        },
        "id": "BQD4tw9umzzd",
        "outputId": "bf79a17b-73a2-40ff-8817-437bdca93c1c"
      },
      "source": [
        "print(\"Weights  :  \", weights, sep='\\n')\n",
        "print(\"\\nBiases  :  \", biases, sep=\"\\n\")"
      ],
      "execution_count": 21,
      "outputs": [
        {
          "output_type": "stream",
          "name": "stdout",
          "text": [
            "Weights  :  \n",
            "[[-0.10278228 -0.62820744  0.40930121]\n",
            " [-0.43992172 -0.65893456 -0.29501966]]\n",
            "\n",
            "Biases  :  \n",
            "[[4.01440400e-01 3.98792356e-01]\n",
            " [3.91134747e-01 6.00827744e-04]\n",
            " [3.26530971e-01 5.27535341e-01]\n",
            " [7.61465810e-01 2.18692386e-01]\n",
            " [4.31410324e-01 3.96847414e-01]\n",
            " [2.16007730e-02 9.34622953e-02]\n",
            " [9.90100352e-01 3.53395477e-01]\n",
            " [6.46281850e-01 5.72617067e-01]\n",
            " [8.52695104e-01 7.06989667e-01]\n",
            " [6.35257072e-01 8.91230590e-01]\n",
            " [6.94641814e-01 1.91962846e-01]\n",
            " [6.75286634e-01 6.03204462e-01]\n",
            " [7.90362203e-01 1.11305983e-01]\n",
            " [6.00217083e-01 5.99150432e-01]\n",
            " [1.74311286e-01 3.00106565e-01]]\n"
          ]
        }
      ]
    },
    {
      "cell_type": "code",
      "metadata": {
        "colab": {
          "base_uri": "https://localhost:8080/"
        },
        "id": "3NarzdnDm2Rm",
        "outputId": "7f8243f9-16ce-4c6a-817d-733f1c59f2cd"
      },
      "source": [
        "# Calculate loss\n",
        "pred = model(inputs)\n",
        "loss = mse(pred, targets)\n",
        "print(loss)"
      ],
      "execution_count": 22,
      "outputs": [
        {
          "output_type": "stream",
          "name": "stdout",
          "text": [
            "59300.26438513408\n"
          ]
        }
      ]
    },
    {
      "cell_type": "code",
      "metadata": {
        "id": "4p8hpUbam5Qn"
      },
      "source": [
        "# repeating same for 200 times\n",
        "for i in range(200):\n",
        "    pred = model(inputs)\n",
        "    loss = mse(pred, targets)\n",
        "    \n",
        "    biases_grad = ((((inputs@np.transpose(weights)) + biases) - targets)) * 2/x_shape[0]\n",
        "    weights_grad = (np.matmul(np.transpose((((inputs@np.transpose(weights)) + biases) - targets)), inputs)) * 2/x_shape[0]\n",
        "\n",
        "    weights -= weights_grad * 1e-4\n",
        "    biases -= biases_grad * 1e-4"
      ],
      "execution_count": 23,
      "outputs": []
    },
    {
      "cell_type": "code",
      "metadata": {
        "colab": {
          "base_uri": "https://localhost:8080/"
        },
        "id": "sPjVx_gHm7mo",
        "outputId": "345513f2-d69b-49af-f8d6-79093bfd28ca"
      },
      "source": [
        "# Calculate loss\n",
        "pred = model(inputs)\n",
        "loss = mse(pred, targets)\n",
        "print(loss)"
      ],
      "execution_count": 24,
      "outputs": [
        {
          "output_type": "stream",
          "name": "stdout",
          "text": [
            "3.348029970409756e+169\n"
          ]
        }
      ]
    },
    {
      "cell_type": "code",
      "metadata": {
        "colab": {
          "base_uri": "https://localhost:8080/"
        },
        "id": "fKJ8E1cPm-lV",
        "outputId": "24df00c0-4109-49d5-a1df-4f5f3c0a23db"
      },
      "source": [
        "# Print predictions\n",
        "print(pred)"
      ],
      "execution_count": 25,
      "outputs": [
        {
          "output_type": "stream",
          "name": "stdout",
          "text": [
            "[[-2.36097090e+84 -4.01500587e+84]\n",
            " [-3.10242440e+84 -5.27590245e+84]\n",
            " [-3.66635763e+84 -6.23491267e+84]\n",
            " [-2.35063814e+84 -3.99743424e+84]\n",
            " [-2.97410838e+84 -5.05769156e+84]\n",
            " [-2.36097090e+84 -4.01500587e+84]\n",
            " [-3.10242440e+84 -5.27590245e+84]\n",
            " [-3.66635763e+84 -6.23491267e+84]\n",
            " [-2.35063814e+84 -3.99743424e+84]\n",
            " [-2.97410838e+84 -5.05769156e+84]\n",
            " [-2.36097090e+84 -4.01500587e+84]\n",
            " [-3.10242440e+84 -5.27590245e+84]\n",
            " [-3.66635763e+84 -6.23491267e+84]\n",
            " [-2.35063814e+84 -3.99743424e+84]\n",
            " [-2.97410838e+84 -5.05769156e+84]]\n"
          ]
        }
      ]
    },
    {
      "cell_type": "code",
      "metadata": {
        "colab": {
          "base_uri": "https://localhost:8080/"
        },
        "id": "z0Sf52ZRnBJm",
        "outputId": "0a67737a-64e0-4e8f-cafe-ced3be707c8f"
      },
      "source": [
        "# Print targets\n",
        "print(targets)"
      ],
      "execution_count": 26,
      "outputs": [
        {
          "output_type": "stream",
          "name": "stdout",
          "text": [
            "[[ 56.  70.]\n",
            " [ 81. 101.]\n",
            " [119. 133.]\n",
            " [ 22.  37.]\n",
            " [103. 119.]\n",
            " [ 56.  70.]\n",
            " [ 81. 101.]\n",
            " [119. 133.]\n",
            " [ 22.  37.]\n",
            " [103. 119.]\n",
            " [ 56.  70.]\n",
            " [ 81. 101.]\n",
            " [119. 133.]\n",
            " [ 22.  37.]\n",
            " [103. 119.]]\n"
          ]
        }
      ]
    }
  ]
}