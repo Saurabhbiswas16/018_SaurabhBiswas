{
  "nbformat": 4,
  "nbformat_minor": 0,
  "metadata": {
    "colab": {
      "name": "CE018_Linear_regression_Tensorflow.ipynb",
      "provenance": [],
      "authorship_tag": "ABX9TyOetug+/3/eVXEsss5ybZX1",
      "include_colab_link": true
    },
    "kernelspec": {
      "name": "python3",
      "display_name": "Python 3"
    },
    "language_info": {
      "name": "python"
    }
  },
  "cells": [
    {
      "cell_type": "markdown",
      "metadata": {
        "id": "view-in-github",
        "colab_type": "text"
      },
      "source": [
        "<a href=\"https://colab.research.google.com/github/Saurabhbiswas16/018_SaurabhBiswas/blob/main/Lab5/CE018_Linear_regression_Tensorflow.ipynb\" target=\"_parent\"><img src=\"https://colab.research.google.com/assets/colab-badge.svg\" alt=\"Open In Colab\"/></a>"
      ]
    },
    {
      "cell_type": "code",
      "metadata": {
        "id": "NCqxa_eAp8ew"
      },
      "source": [
        "# Import Numpy\n",
        "import numpy as np\n",
        "import pandas as pd \n",
        "import tensorflow as tf\n",
        "import matplotlib.pyplot as plt\n",
        "import seaborn as sns\n",
        "\n",
        "from tensorflow import keras\n",
        "from tensorflow.keras import layers\n",
        "from tensorflow.keras.layers.experimental import preprocessing\n",
        "from sklearn.preprocessing import Normalizer\n",
        "import sklearn.preprocessing"
      ],
      "execution_count": 1,
      "outputs": []
    },
    {
      "cell_type": "markdown",
      "metadata": {
        "id": "T9O8VYqGqTWe"
      },
      "source": [
        "**Linear Regression Model using TensorFlow**"
      ]
    },
    {
      "cell_type": "code",
      "metadata": {
        "id": "pjfgpRk2qZfV"
      },
      "source": [
        "# Input (temp, rainfall, humidity)\n",
        "inputs = np.array([[73, 67, 43], [91, 88, 64], [87, 134, 58], [102, 43, 37], [69, 96, 70], [73, 67, 43], [91, 88, 64], [87, 134, 58], [102, 43, 37], [69, 96, 70], [73, 67, 43], [91, 88, 64], [87, 134, 58], [102, 43, 37], [69, 96, 70]], dtype='float32')\n",
        "# Targets (apples)\n",
        "targets = np.array([[56], [81], [119], [22], [103], \n",
        "                    [56], [81], [119], [22], [103], \n",
        "                    [56], [81], [119], [22], [103]], dtype='float32')\n",
        "n = len(inputs) # Number of data points"
      ],
      "execution_count": 2,
      "outputs": []
    },
    {
      "cell_type": "code",
      "metadata": {
        "id": "b9_xBpbfqcBV"
      },
      "source": [
        "from sklearn.model_selection import train_test_split\n",
        "main_data = pd.DataFrame(inputs, columns = ['temp','rainfall','humidity'])\n",
        "Y_rows = pd.DataFrame(targets, columns = ['apples'])\n",
        "\n",
        "X_train, X_test, Y_train, Y_test = train_test_split(main_data, Y_rows, test_size = 0.30, random_state = 54)"
      ],
      "execution_count": 3,
      "outputs": []
    },
    {
      "cell_type": "code",
      "metadata": {
        "id": "nb8C02Ywqfu1"
      },
      "source": [
        "test_results = {}"
      ],
      "execution_count": 4,
      "outputs": []
    },
    {
      "cell_type": "code",
      "metadata": {
        "colab": {
          "base_uri": "https://localhost:8080/"
        },
        "id": "Y_gzux-dqjLm",
        "outputId": "d129fd68-79f0-4d2d-a1c9-9231b262db71"
      },
      "source": [
        "norm_X_test = np.linalg.norm(X_test['rainfall'])\n",
        "norm_X_train = np.linalg.norm(X_train['rainfall'])\n",
        "# norm_Y_test = np.linalg.norm(Y_test['rainfall'])\n",
        "norm_Y_train = np.linalg.norm(Y_train['apples'])\n",
        "\n",
        "normal_array_X_test = X_test['rainfall']/norm_X_test\n",
        "normal_array_X_train = X_train['rainfall']/norm_X_train\n",
        "normal_array_Y_train = Y_train['apples']/norm_Y_train\n",
        "\n",
        "print(normal_array_X_train)\n",
        "print(normal_array_X_test)\n",
        "print(normal_array_Y_train)"
      ],
      "execution_count": 5,
      "outputs": [
        {
          "output_type": "stream",
          "name": "stdout",
          "text": [
            "6     0.282343\n",
            "9     0.308010\n",
            "11    0.282343\n",
            "12    0.429931\n",
            "8     0.137963\n",
            "0     0.214966\n",
            "1     0.282343\n",
            "7     0.429931\n",
            "2     0.429931\n",
            "5     0.214966\n",
            "Name: rainfall, dtype: float32\n",
            "13    0.263556\n",
            "14    0.588404\n",
            "3     0.263556\n",
            "10    0.410657\n",
            "4     0.588404\n",
            "Name: rainfall, dtype: float32\n",
            "6     0.287221\n",
            "9     0.365232\n",
            "11    0.287221\n",
            "12    0.421967\n",
            "8     0.078011\n",
            "0     0.198573\n",
            "1     0.287221\n",
            "7     0.421967\n",
            "2     0.421967\n",
            "5     0.198573\n",
            "Name: apples, dtype: float32\n"
          ]
        }
      ]
    },
    {
      "cell_type": "code",
      "metadata": {
        "colab": {
          "base_uri": "https://localhost:8080/"
        },
        "id": "pt4hMfe9qlyf",
        "outputId": "260d29fd-9e55-48e7-8a91-cda1624b4875"
      },
      "source": [
        "normalizer = preprocessing.Normalization(axis = -1)\n",
        "normalizer.adapt(np.array(X_train))\n",
        "linear_model = tf.keras.Sequential([\n",
        "    normalizer,\n",
        "    layers.Dense(units = 1)\n",
        "])\n",
        "print(linear_model.predict(X_train[:9]))"
      ],
      "execution_count": 6,
      "outputs": [
        {
          "output_type": "stream",
          "name": "stdout",
          "text": [
            "[[-0.3741481 ]\n",
            " [ 0.9473677 ]\n",
            " [-0.3741481 ]\n",
            " [ 1.1920397 ]\n",
            " [-2.5635662 ]\n",
            " [-0.41873887]\n",
            " [-0.3741481 ]\n",
            " [ 1.1920397 ]\n",
            " [ 1.1920397 ]]\n"
          ]
        }
      ]
    },
    {
      "cell_type": "code",
      "metadata": {
        "id": "pAVcx2RLqo-I"
      },
      "source": [
        "linear_model.compile(\n",
        "    optimizer=tf.optimizers.Adam(learning_rate = 0.1),\n",
        "    loss='mean_absolute_error')"
      ],
      "execution_count": 7,
      "outputs": []
    },
    {
      "cell_type": "code",
      "metadata": {
        "id": "LWTNopdBqstd"
      },
      "source": [
        "history = linear_model.fit(\n",
        "    X_train, Y_train, \n",
        "    epochs = 1000,\n",
        "    # suppress logging\n",
        "    verbose=0,\n",
        "    # Calculate validation results on 20% of the training data\n",
        "    validation_split = 0.2)"
      ],
      "execution_count": 8,
      "outputs": []
    },
    {
      "cell_type": "code",
      "metadata": {
        "colab": {
          "base_uri": "https://localhost:8080/"
        },
        "id": "Ad3QPgDHqyFe",
        "outputId": "50235259-4c16-413f-b477-a468e89ee89b"
      },
      "source": [
        "test_results['linear_model'] = linear_model.evaluate(\n",
        "    X_test, Y_test, verbose = 0)\n",
        "\n",
        "test_results['linear_model']"
      ],
      "execution_count": 9,
      "outputs": [
        {
          "output_type": "execute_result",
          "data": {
            "text/plain": [
              "0.7550338506698608"
            ]
          },
          "metadata": {},
          "execution_count": 9
        }
      ]
    }
  ]
}